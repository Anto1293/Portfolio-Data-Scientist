{
 "cells": [
  {
   "cell_type": "markdown",
   "id": "71904d30-d4e6-4245-8638-694b0f395e06",
   "metadata": {},
   "source": [
    "# **Requête API avec OpenFoodFacts**"
   ]
  },
  {
   "cell_type": "markdown",
   "id": "76cbbae5-6431-4ac3-a40b-1cafe61e3006",
   "metadata": {},
   "source": [
    "## Introduction\n",
    "\n",
    "🎯 **Objectif**: tester la collecte de données de produits alimentaires contenant du champagne à l’aide de l'API OpenFoodFacts (L'API OpenFoodFacts est une API **libre**, **collaborative** et **gratuite** qui permet d’accéder à des informations nutritionnelles et commerciales sur des milliers de produits alimentaires à travers le monde).\n",
    "\n",
    "- Rechercher des produits liés à l’épicerie fine à base de champagne\n",
    "\n",
    "- Extraire les 10 premiers produits et enregistrer les informations suivantes dans un fichier .csv :\n",
    "\n",
    "    - foodId : identifiant unique du produit\n",
    "    - label : nom du produit\n",
    "    - category : catégorie du produit\n",
    "    - foodContentsLabel : ingrédients\n",
    "    - image : lien vers l’image du produit\n",
    "\n",
    "\n",
    "🔎 **Méthodologie**\n",
    "\n",
    "Le notebook est structuré en plusieurs étapes :\n",
    "\n",
    "1. Requête et traitement des résultats\n",
    "2. Export des données au format .csv\n",
    "3. Visualisations\n",
    "\n",
    "\n",
    "🔗**Endpoint utilisé**: \n",
    "\n",
    "https://world.openfoodfacts.org/api/v2/search\n",
    "\n",
    "\n",
    "✅ **Paramètres utilisés de l'API**:\n",
    "\n",
    "- *ingredients_tags* : filtre sur les ingrédients (ici, champagne)\n",
    "- *page_size* : limite le nombre de produits retournés\n",
    "- *fields* : permet de sélectionner les champs qu’on veut dans la réponse JSON (code, nom, image, etcatgéorie)"
   ]
  },
  {
   "cell_type": "code",
   "execution_count": 14,
   "id": "b82ee434-174f-4193-bb44-89cc5c354468",
   "metadata": {},
   "outputs": [],
   "source": [
    "import pandas as pd\n",
    "import requests #librairie pour requête API\n",
    "\n",
    "import matplotlib.pyplot as plt\n",
    "from IPython.display import Image, display"
   ]
  },
  {
   "cell_type": "code",
   "execution_count": 16,
   "id": "53f8ee32-2bde-419d-b3a5-c2ad241e16bb",
   "metadata": {},
   "outputs": [],
   "source": [
    "# 1. Fonction pour accéder à l'API et la requêter\n",
    "\n",
    "def get_openfoodfacts_products(query=\"champagne\", max_results=10):\n",
    "    # Lien de l’endpoint de recherche de produits (API OpenFoodFacts)\n",
    "    url = \"https://world.openfoodfacts.org/api/v2/search\"\n",
    "\n",
    "    # Paramètres qu’on ajoute à l’URL pour filtrer la recherche\n",
    "    params = {\n",
    "        \"ingredients_tags\": query,  # cherche seulement les produits contenant champagne\n",
    "        \"page_size\": max_results,            # limite à 10 résultats\n",
    "        \"fields\": \"code,product_name,categories,ingredients_text,image_url\" # sort seulement les colonnes demandées\n",
    "    }\n",
    "\n",
    "    # Requête GET vers l’API avec les paramètres\n",
    "    response = requests.get(url, params=params)\n",
    "\n",
    "    # Transforme la réponse en dictionnaire Python (format JSON)\n",
    "    data = response.json()\n",
    "\n",
    "    # Liste des résultats\n",
    "    results = []\n",
    "\n",
    "    # Boucle sur chaque produit dans les résultats retournés\n",
    "    for product in data.get(\"products\", []):\n",
    "        results.append({\n",
    "            \"foodId\": product.get(\"code\"),                        # ID du produits\n",
    "            \"label\": product.get(\"product_name\"),                 # Nom du produit\n",
    "            \"category\": product.get(\"categories\"),                # Catégories du produit\n",
    "            \"foodContentsLabel\": product.get(\"ingredients_text\"), # Ingrédients du produit\n",
    "            \"image\": product.get(\"image_url\")                     # URL image\n",
    "        })\n",
    "\n",
    "    return pd.DataFrame(results)\n"
   ]
  },
  {
   "cell_type": "code",
   "execution_count": 18,
   "id": "76ad43a9-5a40-4267-9745-73de26db1162",
   "metadata": {},
   "outputs": [
    {
     "data": {
      "text/html": [
       "<div>\n",
       "<style scoped>\n",
       "    .dataframe tbody tr th:only-of-type {\n",
       "        vertical-align: middle;\n",
       "    }\n",
       "\n",
       "    .dataframe tbody tr th {\n",
       "        vertical-align: top;\n",
       "    }\n",
       "\n",
       "    .dataframe thead th {\n",
       "        text-align: right;\n",
       "    }\n",
       "</style>\n",
       "<table border=\"1\" class=\"dataframe\">\n",
       "  <thead>\n",
       "    <tr style=\"text-align: right;\">\n",
       "      <th></th>\n",
       "      <th>foodId</th>\n",
       "      <th>label</th>\n",
       "      <th>category</th>\n",
       "      <th>foodContentsLabel</th>\n",
       "      <th>image</th>\n",
       "    </tr>\n",
       "  </thead>\n",
       "  <tbody>\n",
       "    <tr>\n",
       "      <th>0</th>\n",
       "      <td>8711812380571</td>\n",
       "      <td>Faux Gras</td>\n",
       "      <td>Produits à tartiner, Produits à tartiner salés...</td>\n",
       "      <td>Eau, levure alimentaire, huile de coco, amidon...</td>\n",
       "      <td>https://images.openfoodfacts.org/images/produc...</td>\n",
       "    </tr>\n",
       "    <tr>\n",
       "      <th>1</th>\n",
       "      <td>4005514008807</td>\n",
       "      <td>Wouah gras vegan</td>\n",
       "      <td>Meat alternatives,fr:Faux Gras,fr:Plat-festif,...</td>\n",
       "      <td>Eau, levure alimentaire*, huile de coco*, amid...</td>\n",
       "      <td>https://images.openfoodfacts.org/images/produc...</td>\n",
       "    </tr>\n",
       "    <tr>\n",
       "      <th>2</th>\n",
       "      <td>4056489843696</td>\n",
       "      <td>Rillettes de homard au cognac</td>\n",
       "      <td>Seafood, Fishes and their products, Fish prepa...</td>\n",
       "      <td>Chair de homard américain 49%, huile de colza,...</td>\n",
       "      <td>https://images.openfoodfacts.org/images/produc...</td>\n",
       "    </tr>\n",
       "    <tr>\n",
       "      <th>3</th>\n",
       "      <td>3258431220000</td>\n",
       "      <td></td>\n",
       "      <td>Boissons, Boissons alcoolisées, Vins, Vins eff...</td>\n",
       "      <td>Champagne</td>\n",
       "      <td>https://images.openfoodfacts.org/images/produc...</td>\n",
       "    </tr>\n",
       "    <tr>\n",
       "      <th>4</th>\n",
       "      <td>3049610004104</td>\n",
       "      <td>Veuve Clicquot Champagne Ponsardin Brut</td>\n",
       "      <td>Boissons et préparations de boissons, Boissons...</td>\n",
       "      <td>Champagne</td>\n",
       "      <td>https://images.openfoodfacts.org/images/produc...</td>\n",
       "    </tr>\n",
       "    <tr>\n",
       "      <th>5</th>\n",
       "      <td>3282946015837</td>\n",
       "      <td>Nicolas Feuillatte</td>\n",
       "      <td>Boissons, Boissons alcoolisées, Vins, Vins fra...</td>\n",
       "      <td>Champagne, Contient des _sulfites_</td>\n",
       "      <td>https://images.openfoodfacts.org/images/produc...</td>\n",
       "    </tr>\n",
       "    <tr>\n",
       "      <th>6</th>\n",
       "      <td>3416181017169</td>\n",
       "      <td>Champagne AOP, brut</td>\n",
       "      <td>Boissons, Boissons alcoolisées, Vins, Vins eff...</td>\n",
       "      <td>Champagne</td>\n",
       "      <td>https://images.openfoodfacts.org/images/produc...</td>\n",
       "    </tr>\n",
       "    <tr>\n",
       "      <th>7</th>\n",
       "      <td>3185370283905</td>\n",
       "      <td>Champagne Ruinart</td>\n",
       "      <td>Boissons, Boissons alcoolisées, Vins, Vins eff...</td>\n",
       "      <td>champagne</td>\n",
       "      <td>https://images.openfoodfacts.org/images/produc...</td>\n",
       "    </tr>\n",
       "    <tr>\n",
       "      <th>8</th>\n",
       "      <td>3245391237858</td>\n",
       "      <td>Champagne CHARLES VINCENT BRUT</td>\n",
       "      <td>Boissons, Boissons alcoolisées, Vins, Vins fra...</td>\n",
       "      <td>Champagne brut.</td>\n",
       "      <td>https://images.openfoodfacts.org/images/produc...</td>\n",
       "    </tr>\n",
       "    <tr>\n",
       "      <th>9</th>\n",
       "      <td>3256930103817</td>\n",
       "      <td>Champagne Blue Top Brut</td>\n",
       "      <td>Boissons et préparations de boissons, Boissons...</td>\n",
       "      <td>Champagne (_sulfites_)</td>\n",
       "      <td>https://images.openfoodfacts.org/images/produc...</td>\n",
       "    </tr>\n",
       "  </tbody>\n",
       "</table>\n",
       "</div>"
      ],
      "text/plain": [
       "          foodId                                    label  \\\n",
       "0  8711812380571                                Faux Gras   \n",
       "1  4005514008807                         Wouah gras vegan   \n",
       "2  4056489843696            Rillettes de homard au cognac   \n",
       "3  3258431220000                                            \n",
       "4  3049610004104  Veuve Clicquot Champagne Ponsardin Brut   \n",
       "5  3282946015837                       Nicolas Feuillatte   \n",
       "6  3416181017169                      Champagne AOP, brut   \n",
       "7  3185370283905                        Champagne Ruinart   \n",
       "8  3245391237858           Champagne CHARLES VINCENT BRUT   \n",
       "9  3256930103817                  Champagne Blue Top Brut   \n",
       "\n",
       "                                            category  \\\n",
       "0  Produits à tartiner, Produits à tartiner salés...   \n",
       "1  Meat alternatives,fr:Faux Gras,fr:Plat-festif,...   \n",
       "2  Seafood, Fishes and their products, Fish prepa...   \n",
       "3  Boissons, Boissons alcoolisées, Vins, Vins eff...   \n",
       "4  Boissons et préparations de boissons, Boissons...   \n",
       "5  Boissons, Boissons alcoolisées, Vins, Vins fra...   \n",
       "6  Boissons, Boissons alcoolisées, Vins, Vins eff...   \n",
       "7  Boissons, Boissons alcoolisées, Vins, Vins eff...   \n",
       "8  Boissons, Boissons alcoolisées, Vins, Vins fra...   \n",
       "9  Boissons et préparations de boissons, Boissons...   \n",
       "\n",
       "                                   foodContentsLabel  \\\n",
       "0  Eau, levure alimentaire, huile de coco, amidon...   \n",
       "1  Eau, levure alimentaire*, huile de coco*, amid...   \n",
       "2  Chair de homard américain 49%, huile de colza,...   \n",
       "3                                          Champagne   \n",
       "4                                          Champagne   \n",
       "5                 Champagne, Contient des _sulfites_   \n",
       "6                                          Champagne   \n",
       "7                                          champagne   \n",
       "8                                    Champagne brut.   \n",
       "9                             Champagne (_sulfites_)   \n",
       "\n",
       "                                               image  \n",
       "0  https://images.openfoodfacts.org/images/produc...  \n",
       "1  https://images.openfoodfacts.org/images/produc...  \n",
       "2  https://images.openfoodfacts.org/images/produc...  \n",
       "3  https://images.openfoodfacts.org/images/produc...  \n",
       "4  https://images.openfoodfacts.org/images/produc...  \n",
       "5  https://images.openfoodfacts.org/images/produc...  \n",
       "6  https://images.openfoodfacts.org/images/produc...  \n",
       "7  https://images.openfoodfacts.org/images/produc...  \n",
       "8  https://images.openfoodfacts.org/images/produc...  \n",
       "9  https://images.openfoodfacts.org/images/produc...  "
      ]
     },
     "metadata": {},
     "output_type": "display_data"
    }
   ],
   "source": [
    "# 2. Export de la dataframe\n",
    "\n",
    "# Appel de la fonction\n",
    "df_openfoodfacts = get_openfoodfacts_products()\n",
    "\n",
    "# Sauvegarde en document csv\n",
    "df_openfoodfacts.to_csv(\"produits_openfoodfacts_champagne.csv\", index=False)\n",
    "\n",
    "# Affichage de la df\n",
    "display(df_openfoodfacts)"
   ]
  },
  {
   "cell_type": "code",
   "execution_count": 20,
   "id": "bffdb5c7-5dee-483d-8e92-c46ee17e73f2",
   "metadata": {},
   "outputs": [
    {
     "name": "stdout",
     "output_type": "stream",
     "text": [
      "📋 Liste complète des ingrédients pour les 3 premiers produits :\n",
      "\n",
      "Produit 1 - Faux Gras\n",
      "Ingrédients : Eau, levure alimentaire, huile de coco, amidon de pomme de terre, protéines de tournesol, Champagne (2%), pulpe de tomates, sel marin, huile de tournesol, truffe (1%), épices (0,18% : coriandre, cannelle, clous de girofle).\n",
      "\n",
      "--------------------------------------------------------------------------------\n",
      "Produit 2 - Wouah gras vegan\n",
      "Ingrédients : Eau, levure alimentaire*, huile de coco*, amidon de pomme de terre*, protéines végétales de graines de tournesol*, Champagne* 2%, double concentré de tomates*, sel marin, huile de tournesol*, truffes* déshydratées 1%, épices* (coriandre*, cannelle*, clou de girofle*)\n",
      "* issus de l'agriculture biologique\n",
      "\n",
      "--------------------------------------------------------------------------------\n",
      "Produit 3 - Rillettes de homard au cognac\n",
      "Ingrédients : Chair de homard américain 49%, huile de colza, colin d'Alaska, eau, double concentré de tomates, Champagne (contient sulfites), moutarde de Dijon (eau, graines de moutarde, vinaigre d'alcool, sel), fibre de blé, jaune d'œuf en poudre, farine de blé, sel, Cognac 0,5%, poivre blanc.\n",
      "\n",
      "--------------------------------------------------------------------------------\n"
     ]
    }
   ],
   "source": [
    "# S'assurer que dans les 3 premiers produits il y a bien du champagne dans les ingrédients: \n",
    "\n",
    "print(\"📋 Liste complète des ingrédients pour les 3 premiers produits :\\n\")\n",
    "\n",
    "for idx, row in df_openfoodfacts.head(3).iterrows():\n",
    "    print(f\"Produit {idx+1} - {row['label']}\")\n",
    "    print(f\"Ingrédients : {row['foodContentsLabel']}\\n\")\n",
    "    print(\"-\" * 80)"
   ]
  },
  {
   "cell_type": "code",
   "execution_count": 22,
   "id": "b534ca57-27a8-4f73-8140-ca058d1ee918",
   "metadata": {},
   "outputs": [
    {
     "name": "stdout",
     "output_type": "stream",
     "text": [
      "🧾 Produit : Faux Gras\n",
      "📂 Catégorie : Produits à tartiner, Produits à tartiner salés, Alternatives à la viande, Substituts de viande, Substituts du foie gras\n"
     ]
    },
    {
     "data": {
      "text/html": [
       "<img src=\"https://images.openfoodfacts.org/images/products/871/181/238/0571/front_fr.81.400.jpg\" width=\"200\"/>"
      ],
      "text/plain": [
       "<IPython.core.display.Image object>"
      ]
     },
     "metadata": {},
     "output_type": "display_data"
    },
    {
     "name": "stdout",
     "output_type": "stream",
     "text": [
      "--------------------------------------------------\n",
      "🧾 Produit : Wouah gras vegan\n",
      "📂 Catégorie : Meat alternatives,fr:Faux Gras,fr:Plat-festif,Foie gras substitutes\n"
     ]
    },
    {
     "data": {
      "text/html": [
       "<img src=\"https://images.openfoodfacts.org/images/products/400/551/400/8807/front_fr.9.400.jpg\" width=\"200\"/>"
      ],
      "text/plain": [
       "<IPython.core.display.Image object>"
      ]
     },
     "metadata": {},
     "output_type": "display_data"
    },
    {
     "name": "stdout",
     "output_type": "stream",
     "text": [
      "--------------------------------------------------\n",
      "🧾 Produit : Rillettes de homard au cognac\n",
      "📂 Catégorie : Seafood, Fishes and their products, Fish preparations, fr:Rillettes de homard au cognac et champagne, en:lobster-rillettes\n"
     ]
    },
    {
     "data": {
      "text/html": [
       "<img src=\"https://images.openfoodfacts.org/images/products/405/648/984/3696/front_fr.3.400.jpg\" width=\"200\"/>"
      ],
      "text/plain": [
       "<IPython.core.display.Image object>"
      ]
     },
     "metadata": {},
     "output_type": "display_data"
    },
    {
     "name": "stdout",
     "output_type": "stream",
     "text": [
      "--------------------------------------------------\n",
      "🧾 Produit : \n",
      "📂 Catégorie : Boissons, Boissons alcoolisées, Vins, Vins effervescents, Champagnes, Champagnes bruts\n"
     ]
    },
    {
     "data": {
      "text/html": [
       "<img src=\"https://images.openfoodfacts.org/images/products/325/843/122/0000/front_en.4.400.jpg\" width=\"200\"/>"
      ],
      "text/plain": [
       "<IPython.core.display.Image object>"
      ]
     },
     "metadata": {},
     "output_type": "display_data"
    },
    {
     "name": "stdout",
     "output_type": "stream",
     "text": [
      "--------------------------------------------------\n",
      "🧾 Produit : Veuve Clicquot Champagne Ponsardin Brut\n",
      "📂 Catégorie : Boissons et préparations de boissons, Boissons, Boissons alcoolisées, Vins, Vins effervescents, Champagnes\n"
     ]
    },
    {
     "data": {
      "text/html": [
       "<img src=\"https://images.openfoodfacts.org/images/products/304/961/000/4104/front_fr.39.400.jpg\" width=\"200\"/>"
      ],
      "text/plain": [
       "<IPython.core.display.Image object>"
      ]
     },
     "metadata": {},
     "output_type": "display_data"
    },
    {
     "name": "stdout",
     "output_type": "stream",
     "text": [
      "--------------------------------------------------\n",
      "🧾 Produit : Nicolas Feuillatte\n",
      "📂 Catégorie : Boissons, Boissons alcoolisées, Vins, Vins français, Vins effervescents, Champagnes, Champagnes français, Champagnes bruts\n"
     ]
    },
    {
     "data": {
      "text/html": [
       "<img src=\"https://images.openfoodfacts.org/images/products/328/294/601/5837/front_fr.7.400.jpg\" width=\"200\"/>"
      ],
      "text/plain": [
       "<IPython.core.display.Image object>"
      ]
     },
     "metadata": {},
     "output_type": "display_data"
    },
    {
     "name": "stdout",
     "output_type": "stream",
     "text": [
      "--------------------------------------------------\n",
      "🧾 Produit : Champagne AOP, brut\n",
      "📂 Catégorie : Boissons, Boissons alcoolisées, Vins, Vins effervescents, Champagnes, Champagnes bruts\n"
     ]
    },
    {
     "data": {
      "text/html": [
       "<img src=\"https://images.openfoodfacts.org/images/products/341/618/101/7169/front_fr.7.400.jpg\" width=\"200\"/>"
      ],
      "text/plain": [
       "<IPython.core.display.Image object>"
      ]
     },
     "metadata": {},
     "output_type": "display_data"
    },
    {
     "name": "stdout",
     "output_type": "stream",
     "text": [
      "--------------------------------------------------\n",
      "🧾 Produit : Champagne Ruinart\n",
      "📂 Catégorie : Boissons, Boissons alcoolisées, Vins, Vins effervescents, Champagnes\n"
     ]
    },
    {
     "data": {
      "text/html": [
       "<img src=\"https://images.openfoodfacts.org/images/products/318/537/028/3905/front_en.5.400.jpg\" width=\"200\"/>"
      ],
      "text/plain": [
       "<IPython.core.display.Image object>"
      ]
     },
     "metadata": {},
     "output_type": "display_data"
    },
    {
     "name": "stdout",
     "output_type": "stream",
     "text": [
      "--------------------------------------------------\n",
      "🧾 Produit : Champagne CHARLES VINCENT BRUT\n",
      "📂 Catégorie : Boissons, Boissons alcoolisées, Vins, Vins français, Vins effervescents, Champagnes, Champagnes français\n"
     ]
    },
    {
     "data": {
      "text/html": [
       "<img src=\"https://images.openfoodfacts.org/images/products/324/539/123/7858/front_fr.24.400.jpg\" width=\"200\"/>"
      ],
      "text/plain": [
       "<IPython.core.display.Image object>"
      ]
     },
     "metadata": {},
     "output_type": "display_data"
    },
    {
     "name": "stdout",
     "output_type": "stream",
     "text": [
      "--------------------------------------------------\n",
      "🧾 Produit : Champagne Blue Top Brut\n",
      "📂 Catégorie : Boissons et préparations de boissons, Boissons, Boissons alcoolisées, Vins, Vins français, Vins effervescents, Champagnes, Champagnes français, Champagnes bruts\n"
     ]
    },
    {
     "data": {
      "text/html": [
       "<img src=\"https://images.openfoodfacts.org/images/products/325/693/010/3817/front_fr.17.400.jpg\" width=\"200\"/>"
      ],
      "text/plain": [
       "<IPython.core.display.Image object>"
      ]
     },
     "metadata": {},
     "output_type": "display_data"
    },
    {
     "name": "stdout",
     "output_type": "stream",
     "text": [
      "--------------------------------------------------\n"
     ]
    }
   ],
   "source": [
    "# ==== 3. Visualisations ====\n",
    "\n",
    "for idx, row in df_openfoodfacts.iterrows():\n",
    "    print(f\"🧾 Produit : {row['label']}\")\n",
    "    print(f\"📂 Catégorie : {row['category']}\")\n",
    "    if pd.notna(row['image']):\n",
    "        display(Image(url=row['image'], width=200))\n",
    "    print(\"-\" * 50)"
   ]
  },
  {
   "cell_type": "code",
   "execution_count": null,
   "id": "4c975825-0992-445c-bd14-8c6a896f773c",
   "metadata": {},
   "outputs": [],
   "source": []
  }
 ],
 "metadata": {
  "kernelspec": {
   "display_name": "Python 3 (ipykernel)",
   "language": "python",
   "name": "python3"
  },
  "language_info": {
   "codemirror_mode": {
    "name": "ipython",
    "version": 3
   },
   "file_extension": ".py",
   "mimetype": "text/x-python",
   "name": "python",
   "nbconvert_exporter": "python",
   "pygments_lexer": "ipython3",
   "version": "3.12.4"
  }
 },
 "nbformat": 4,
 "nbformat_minor": 5
}
